{
 "cells": [
  {
   "cell_type": "markdown",
   "metadata": {
    "pycharm": {
     "name": "#%% md\n"
    }
   },
   "source": [
    "# Моделирование движения тела, брошенного под углом к горизонту"
   ]
  },
  {
   "cell_type": "markdown",
   "metadata": {},
   "source": [
    "# Используемые библиотеки\n",
    "* numpy --> Используется для математических операций над входными данными и вычисления результатов\n",
    "* matplotlib --> Используется для визуализации решения, построения графиков и т.д.\n",
    "* math --> Используется для математических операций над входными данными и вычисления результатов"
   ]
  },
  {
   "cell_type": "code",
   "execution_count": 1,
   "metadata": {
    "pycharm": {
     "name": "#%%\n"
    }
   },
   "outputs": [],
   "source": [
    "import numpy as np\n",
    "import matplotlib.pyplot as plt\n",
    "import math\n",
    "%matplotlib inline"
   ]
  },
  {
   "cell_type": "markdown",
   "metadata": {},
   "source": [
    "На вход программе подаётся начальная скорость тела - **V0** и угол, под которым его бросают - **a**, в градусах"
   ]
  },
  {
   "cell_type": "code",
   "execution_count": 7,
   "metadata": {},
   "outputs": [],
   "source": [
    "V0 = 10\n",
    "a = 60"
   ]
  },
  {
   "cell_type": "markdown",
   "metadata": {},
   "source": [
    "Результатом выполнения программы являются:\n",
    "* Траектория полёта тела\n",
    "* Дальность полёта тела\n",
    "* Максимальная высота подъёма\n",
    "* Время полёта тела\n",
    "\n",
    "Также можно рассчитать: \n",
    "* Координату Х\n",
    "* Координату У\n",
    "* Скорость тела \n",
    "\n",
    "В заданный момент времени **t**"
   ]
  },
  {
   "cell_type": "code",
   "execution_count": 8,
   "metadata": {},
   "outputs": [
    {
     "name": "stdout",
     "output_type": "stream",
     "text": [
      "Ускорение свободного падения: 9.8\n",
      "\n",
      "Начальный угол в радианах: 1.0471975511965976\n",
      "\n",
      "Начальная скорость по У: 8.660254037844386\n",
      "\n",
      "Начальная скорость по Х: 5.000000000000001\n",
      "\n",
      "Время полёта: 1.767398783233548\n",
      "\n",
      "Максимальная высота подъёма: 3.826530612244897\n",
      "\n",
      "Дальность полёта: 8.836993916167742\n"
     ]
    }
   ],
   "source": [
    "#Ускорение свободного падения\n",
    "g = 9.8\n",
    "print('Ускорение свободного падения: ' + str(g))\n",
    "# перевод угла из градусов в радианы\n",
    "a1 = a * math.pi / 180\n",
    "print('\\nНачальный угол в радианах: ' + str(a1))\n",
    "# начальная скорость по оси У\n",
    "V0y = V0 * math.sin(a1)\n",
    "print('\\nНачальная скорость по У: ' + str(V0y))\n",
    "# начальная скорость по Х\n",
    "V0x = V0 * math.cos(a1)\n",
    "print('\\nНачальная скорость по Х: ' + str(V0x))\n",
    "# Время полёта тела\n",
    "t = 2 * V0y / g\n",
    "print('\\nВремя полёта: ' + str(t))\n",
    "# Максимальная высота подъёма тела\n",
    "H = V0y ** 2 / 2 / g\n",
    "print('\\nМаксимальная высота подъёма: ' + str(H))\n",
    "# Дальность полёта тела\n",
    "S = V0x * t\n",
    "print('\\nДальность полёта: ' + str(S))\n"
   ]
  },
  {
   "cell_type": "markdown",
   "metadata": {},
   "source": [
    "Подготовим данные для визуализации"
   ]
  },
  {
   "cell_type": "code",
   "execution_count": 9,
   "metadata": {
    "pycharm": {
     "name": "#%%\n"
    }
   },
   "outputs": [
    {
     "name": "stdout",
     "output_type": "stream",
     "text": [
      "-0.19599999999999992t^2 + 1.7320508075688767t\n"
     ]
    }
   ],
   "source": [
    "b = - 4 * H / S ** 2\n",
    "c = 2 * H / S - b * S / 2\n",
    "f = lambda t: b * t ** 2 + c * t\n",
    "print(str(b) + 't^2 + ' + str(c) + 't')\n",
    "x = np.linspace(0, S, 100)"
   ]
  },
  {
   "cell_type": "markdown",
   "metadata": {
    "pycharm": {
     "name": "#%% md\n"
    }
   },
   "source": [
    "Визуализируем данные"
   ]
  },
  {
   "cell_type": "code",
   "execution_count": 10,
   "metadata": {
    "pycharm": {
     "name": "#%%\n"
    }
   },
   "outputs": [
    {
     "data": {
      "image/png": "[encoded data removed]",
      "text/plain": [
       "<Figure size 864x432 with 1 Axes>"
      ]
     },
     "metadata": {
      "needs_background": "light"
     },
     "output_type": "display_data"
    }
   ],
   "source": [
    "plt.figure(figsize=(12, 6))\n",
    "plt.plot(x, f(x))\n",
    "plt.xlabel('X')\n",
    "plt.ylabel('Y')\n",
    "plt.grid()\n",
    "plt.show()\n"
   ]
  },
  {
   "cell_type": "code",
   "execution_count": null,
   "metadata": {},
   "outputs": [],
   "source": []
  }
 ],
 "metadata": {
  "kernelspec": {
   "display_name": "Python 3",
   "language": "python",
   "name": "python3"
  },
  "language_info": {
   "codemirror_mode": {
    "name": "ipython",
    "version": 3
   },
   "file_extension": ".py",
   "mimetype": "text/x-python",
   "name": "python",
   "nbconvert_exporter": "python",
   "pygments_lexer": "ipython3",
   "version": "3.9.2"
  }
 },
 "nbformat": 4,
 "nbformat_minor": 1
}
